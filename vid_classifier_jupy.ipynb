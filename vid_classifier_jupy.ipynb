{
 "cells": [
  {
   "cell_type": "code",
   "execution_count": 1,
   "metadata": {},
   "outputs": [
    {
     "name": "stderr",
     "output_type": "stream",
     "text": [
      "2023-06-20 10:51:58.799312: I tensorflow/core/platform/cpu_feature_guard.cc:193] This TensorFlow binary is optimized with oneAPI Deep Neural Network Library (oneDNN) to use the following CPU instructions in performance-critical operations:  AVX2 FMA\n",
      "To enable them in other operations, rebuild TensorFlow with the appropriate compiler flags.\n",
      "2023-06-20 10:51:59.090743: W tensorflow/stream_executor/platform/default/dso_loader.cc:64] Could not load dynamic library 'libcudart.so.11.0'; dlerror: libcudart.so.11.0: cannot open shared object file: No such file or directory; LD_LIBRARY_PATH: /home/zany/.local/lib/python3.8/site-packages/cv2/../../lib64:/opt/ros/noetic/lib:/opt/ros/noetic/lib/x86_64-linux-gnu\n",
      "2023-06-20 10:51:59.090774: I tensorflow/stream_executor/cuda/cudart_stub.cc:29] Ignore above cudart dlerror if you do not have a GPU set up on your machine.\n",
      "2023-06-20 10:51:59.134302: E tensorflow/stream_executor/cuda/cuda_blas.cc:2981] Unable to register cuBLAS factory: Attempting to register factory for plugin cuBLAS when one has already been registered\n",
      "2023-06-20 10:51:59.970679: W tensorflow/stream_executor/platform/default/dso_loader.cc:64] Could not load dynamic library 'libnvinfer.so.7'; dlerror: libnvinfer.so.7: cannot open shared object file: No such file or directory; LD_LIBRARY_PATH: /home/zany/.local/lib/python3.8/site-packages/cv2/../../lib64:/opt/ros/noetic/lib:/opt/ros/noetic/lib/x86_64-linux-gnu\n",
      "2023-06-20 10:51:59.970797: W tensorflow/stream_executor/platform/default/dso_loader.cc:64] Could not load dynamic library 'libnvinfer_plugin.so.7'; dlerror: libnvinfer_plugin.so.7: cannot open shared object file: No such file or directory; LD_LIBRARY_PATH: /home/zany/.local/lib/python3.8/site-packages/cv2/../../lib64:/opt/ros/noetic/lib:/opt/ros/noetic/lib/x86_64-linux-gnu\n",
      "2023-06-20 10:51:59.970806: W tensorflow/compiler/tf2tensorrt/utils/py_utils.cc:38] TF-TRT Warning: Cannot dlopen some TensorRT libraries. If you would like to use Nvidia GPU with TensorRT, please make sure the missing libraries mentioned above are installed properly.\n"
     ]
    },
    {
     "name": "stdout",
     "output_type": "stream",
     "text": [
      "(3880, 10, 64, 64) (3880, 8)\n",
      "(970, 10, 64, 64) (970, 8)\n",
      "(1228, 10, 64, 64) (1228,)\n"
     ]
    }
   ],
   "source": [
    "import cv2\n",
    "import os\n",
    "import numpy as np\n",
    "from sklearn.model_selection import train_test_split\n",
    "from tensorflow.keras.utils import to_categorical\n",
    "\n",
    "\n",
    "folder = \"datas/\"\n",
    "gestures = {1: \"Stop sign\", 2: \"Thumbs down\", 3: \"Waving\", 4: \"Pointing\",\n",
    "            5: \"Calling someone\", 6: \"Thumbs up\", 7: \"Wave someone away\",9: \"Others\"}#, 0: \"Nodding\",  8: \"Shaking head\"}\n",
    "gestures_len = 8\n",
    "sequence_len = 10\n",
    "size = (64,64)\n",
    "\n",
    "def rolling_window2D(a,n,step=3):\n",
    "    # a: 2D Input array \n",
    "    # n: Group/sliding window length\n",
    "    return a[np.arange(a.shape[0]-n+1)[:,None] + np.arange(n)][::step, :]\n",
    "\n",
    "def load_csv(Xd, Yd, sequence_len = 30):\n",
    "    X=[]\n",
    "    Y=[]\n",
    "    for x1, y1 in zip(Xd, Yd):\n",
    "        try:\n",
    "            frames = []\n",
    "            cap = cv2.VideoCapture(x1)\n",
    "            while cap.isOpened():\n",
    "                ret, frame = cap.read()\n",
    "                if not ret:\n",
    "                  cap.release()\n",
    "                  cv2.destroyAllWindows()\n",
    "                  break\n",
    "                frame = cv2.cvtColor(frame, cv2.COLOR_BGR2GRAY)\n",
    "                frame = cv2.resize(frame, size) \n",
    "                frame = frame/255\n",
    "                frames.append(frame)\n",
    "            frames = np.array(frames)\n",
    "            x = rolling_window2D(frames,sequence_len)\n",
    "            X.extend(list(x))\n",
    "            y = np.ones(len(x),dtype=int)*y1\n",
    "            #y = np.ones(len(x),dtype=int)*i\n",
    "            Y.extend(list(y))\n",
    "        except Exception as e: \n",
    "            print(e)\n",
    "            pass # Exception as e\n",
    "    return np.array(X),np.array(Y)\n",
    "\n",
    "Xd=[]\n",
    "Yd=[]\n",
    "folder_list = [f for f in os.listdir(folder) if os.path.isdir(os.path.join(folder, f))]\n",
    "for folder_i in folder_list:\n",
    "    for i, k in enumerate(list(gestures.keys())):\n",
    "        dir_list = os.listdir(folder+folder_i+\"/gesture/\"+str(k))\n",
    "        for d in dir_list:\n",
    "            if d!=\"desktop.ini\":\n",
    "                Xd.append(folder+folder_i+\"/gesture/\"+str(k)+\"/\"+d)   \n",
    "                Yd.append(i)\n",
    "X_train, X_test, y_train, y_test = train_test_split(Xd, Yd, test_size=0.2, random_state=42, stratify=Yd)\n",
    "X_train, X_val, y_train, y_val = train_test_split(X_train, y_train, test_size=0.2, random_state=42, stratify=y_train)\n",
    "\n",
    "X_train,y_train = load_csv(X_train,y_train,sequence_len)\n",
    "X_test,y_test = load_csv(X_test,y_test,sequence_len)\n",
    "X_val,y_val = load_csv(X_val,y_val,sequence_len)\n",
    "\n",
    "y_train = to_categorical(y_train).astype(int)\n",
    "y_val = to_categorical(y_val).astype(int)\n",
    "print(X_train.shape,y_train.shape)\n",
    "print(X_val.shape,y_val.shape)\n",
    "print(X_test.shape,y_test.shape)"
   ]
  },
  {
   "cell_type": "code",
   "execution_count": 2,
   "metadata": {},
   "outputs": [
    {
     "name": "stdout",
     "output_type": "stream",
     "text": [
      "model loaded\n"
     ]
    },
    {
     "name": "stderr",
     "output_type": "stream",
     "text": [
      "2023-06-20 10:52:38.388685: I tensorflow/stream_executor/cuda/cuda_gpu_executor.cc:980] successful NUMA node read from SysFS had negative value (-1), but there must be at least one NUMA node, so returning NUMA node zero\n",
      "2023-06-20 10:52:38.388929: W tensorflow/stream_executor/platform/default/dso_loader.cc:64] Could not load dynamic library 'libcudart.so.11.0'; dlerror: libcudart.so.11.0: cannot open shared object file: No such file or directory; LD_LIBRARY_PATH: /home/zany/.local/lib/python3.8/site-packages/cv2/../../lib64:/opt/ros/noetic/lib:/opt/ros/noetic/lib/x86_64-linux-gnu\n",
      "2023-06-20 10:52:38.389009: W tensorflow/stream_executor/platform/default/dso_loader.cc:64] Could not load dynamic library 'libcublas.so.11'; dlerror: libcublas.so.11: cannot open shared object file: No such file or directory; LD_LIBRARY_PATH: /home/zany/.local/lib/python3.8/site-packages/cv2/../../lib64:/opt/ros/noetic/lib:/opt/ros/noetic/lib/x86_64-linux-gnu\n",
      "2023-06-20 10:52:38.389181: W tensorflow/stream_executor/platform/default/dso_loader.cc:64] Could not load dynamic library 'libcublasLt.so.11'; dlerror: libcublasLt.so.11: cannot open shared object file: No such file or directory; LD_LIBRARY_PATH: /home/zany/.local/lib/python3.8/site-packages/cv2/../../lib64:/opt/ros/noetic/lib:/opt/ros/noetic/lib/x86_64-linux-gnu\n",
      "2023-06-20 10:52:38.404303: W tensorflow/stream_executor/platform/default/dso_loader.cc:64] Could not load dynamic library 'libcusolver.so.11'; dlerror: libcusolver.so.11: cannot open shared object file: No such file or directory; LD_LIBRARY_PATH: /home/zany/.local/lib/python3.8/site-packages/cv2/../../lib64:/opt/ros/noetic/lib:/opt/ros/noetic/lib/x86_64-linux-gnu\n",
      "2023-06-20 10:52:38.404557: W tensorflow/stream_executor/platform/default/dso_loader.cc:64] Could not load dynamic library 'libcusparse.so.11'; dlerror: libcusparse.so.11: cannot open shared object file: No such file or directory; LD_LIBRARY_PATH: /home/zany/.local/lib/python3.8/site-packages/cv2/../../lib64:/opt/ros/noetic/lib:/opt/ros/noetic/lib/x86_64-linux-gnu\n",
      "2023-06-20 10:52:38.405490: W tensorflow/core/common_runtime/gpu/gpu_device.cc:1934] Cannot dlopen some GPU libraries. Please make sure the missing libraries mentioned above are installed properly if you would like to use GPU. Follow the guide at https://www.tensorflow.org/install/gpu for how to download and setup the required libraries for your platform.\n",
      "Skipping registering GPU devices...\n",
      "2023-06-20 10:52:38.406745: I tensorflow/core/platform/cpu_feature_guard.cc:193] This TensorFlow binary is optimized with oneAPI Deep Neural Network Library (oneDNN) to use the following CPU instructions in performance-critical operations:  AVX2 FMA\n",
      "To enable them in other operations, rebuild TensorFlow with the appropriate compiler flags.\n"
     ]
    }
   ],
   "source": [
    "from keras.models import Sequential\n",
    "from keras.layers import Conv2D, MaxPooling2D, Flatten, Dense\n",
    "from keras.preprocessing import image\n",
    "from keras.utils import to_categorical\n",
    "from sklearn.model_selection import train_test_split\n",
    "\n",
    "def build_model():\n",
    "    model = Sequential()\n",
    "    model.add(Conv2D(32, (3, 3), activation='relu', input_shape=(10, 64, 64)))\n",
    "    model.add(MaxPooling2D(pool_size=(2, 2)))\n",
    "    model.add(Conv2D(32, (3, 3), activation='relu'))\n",
    "    model.add(MaxPooling2D(pool_size=(2, 2)))\n",
    "    model.add(Flatten())\n",
    "    model.add(Dense(128, activation='relu'))\n",
    "    model.add(Dense(len(gestures), activation='softmax'))\n",
    "    model.compile(optimizer='adam', loss='categorical_crossentropy', metrics=['accuracy'])\n",
    "    return model\n",
    "\n",
    "model = build_model()\n",
    "print(\"model loaded\")"
   ]
  },
  {
   "cell_type": "code",
   "execution_count": 3,
   "metadata": {},
   "outputs": [
    {
     "name": "stdout",
     "output_type": "stream",
     "text": [
      "Epoch 1/20\n"
     ]
    },
    {
     "name": "stderr",
     "output_type": "stream",
     "text": [
      "2023-06-20 10:52:38.764016: W tensorflow/core/framework/cpu_allocator_impl.cc:82] Allocation of 635699200 exceeds 10% of free system memory.\n"
     ]
    },
    {
     "name": "stdout",
     "output_type": "stream",
     "text": [
      "243/243 [==============================] - 3s 12ms/step - loss: 0.9395 - accuracy: 0.6737 - val_loss: 8.8970 - val_accuracy: 0.1052\n",
      "Epoch 2/20\n",
      "243/243 [==============================] - 3s 12ms/step - loss: 0.2140 - accuracy: 0.9340 - val_loss: 11.3713 - val_accuracy: 0.1000\n",
      "Epoch 3/20\n",
      "243/243 [==============================] - 3s 12ms/step - loss: 0.1256 - accuracy: 0.9601 - val_loss: 13.1264 - val_accuracy: 0.1000\n",
      "Epoch 4/20\n",
      "243/243 [==============================] - 3s 12ms/step - loss: 0.0666 - accuracy: 0.9786 - val_loss: 12.8293 - val_accuracy: 0.1072\n",
      "Epoch 5/20\n",
      "243/243 [==============================] - 3s 11ms/step - loss: 0.0507 - accuracy: 0.9840 - val_loss: 15.4264 - val_accuracy: 0.1000\n",
      "Epoch 6/20\n",
      "243/243 [==============================] - 3s 12ms/step - loss: 0.0425 - accuracy: 0.9866 - val_loss: 14.7591 - val_accuracy: 0.1000\n",
      "Epoch 7/20\n",
      "243/243 [==============================] - 3s 12ms/step - loss: 0.0177 - accuracy: 0.9948 - val_loss: 16.3257 - val_accuracy: 0.1000\n",
      "Epoch 8/20\n",
      "243/243 [==============================] - 3s 12ms/step - loss: 0.0174 - accuracy: 0.9946 - val_loss: 16.0329 - val_accuracy: 0.1000\n",
      "Epoch 9/20\n",
      "243/243 [==============================] - 3s 11ms/step - loss: 0.0254 - accuracy: 0.9928 - val_loss: 15.4268 - val_accuracy: 0.1021\n",
      "Epoch 10/20\n",
      "243/243 [==============================] - 3s 11ms/step - loss: 0.0271 - accuracy: 0.9920 - val_loss: 17.9870 - val_accuracy: 0.1361\n",
      "Epoch 11/20\n",
      "243/243 [==============================] - 3s 12ms/step - loss: 0.0720 - accuracy: 0.9768 - val_loss: 16.9600 - val_accuracy: 0.1000\n",
      "Epoch 12/20\n",
      "243/243 [==============================] - 3s 11ms/step - loss: 0.0148 - accuracy: 0.9964 - val_loss: 17.2168 - val_accuracy: 0.1000\n",
      "Epoch 13/20\n",
      "243/243 [==============================] - 3s 12ms/step - loss: 0.0089 - accuracy: 0.9972 - val_loss: 17.6802 - val_accuracy: 0.1000\n",
      "Epoch 14/20\n",
      "243/243 [==============================] - 3s 12ms/step - loss: 0.0326 - accuracy: 0.9887 - val_loss: 19.6756 - val_accuracy: 0.1000\n",
      "Epoch 15/20\n",
      "243/243 [==============================] - 3s 12ms/step - loss: 0.0047 - accuracy: 0.9982 - val_loss: 19.7071 - val_accuracy: 0.1000\n",
      "Epoch 16/20\n",
      "243/243 [==============================] - 3s 12ms/step - loss: 9.2590e-04 - accuracy: 0.9997 - val_loss: 20.2674 - val_accuracy: 0.1000\n",
      "Epoch 17/20\n",
      "243/243 [==============================] - 3s 12ms/step - loss: 1.2898e-04 - accuracy: 1.0000 - val_loss: 20.7662 - val_accuracy: 0.1000\n",
      "Epoch 18/20\n",
      "243/243 [==============================] - 3s 12ms/step - loss: 6.8818e-05 - accuracy: 1.0000 - val_loss: 21.0199 - val_accuracy: 0.1000\n",
      "Epoch 19/20\n",
      "243/243 [==============================] - 3s 12ms/step - loss: 5.4425e-05 - accuracy: 1.0000 - val_loss: 21.2647 - val_accuracy: 0.1000\n",
      "Epoch 20/20\n",
      "243/243 [==============================] - 3s 11ms/step - loss: 4.5492e-05 - accuracy: 1.0000 - val_loss: 21.4928 - val_accuracy: 0.1000\n"
     ]
    },
    {
     "data": {
      "text/plain": [
       "<keras.callbacks.History at 0x7fb424358c70>"
      ]
     },
     "execution_count": 3,
     "metadata": {},
     "output_type": "execute_result"
    }
   ],
   "source": [
    "# Train the model\n",
    "model.fit(X_train, y_train, validation_data=(X_val, y_val), batch_size=16, epochs=20)"
   ]
  },
  {
   "cell_type": "code",
   "execution_count": 4,
   "metadata": {},
   "outputs": [
    {
     "name": "stdout",
     "output_type": "stream",
     "text": [
      "(1228, 8)\n",
      "39/39 [==============================] - 0s 5ms/step - loss: 13.4380 - accuracy: 0.1808\n",
      "Test Loss: 13.438045501708984\n",
      "Test Accuracy: 0.180781751871109\n"
     ]
    }
   ],
   "source": [
    "# Evaluate the model\n",
    "y_test_new = to_categorical(y_test,8)\n",
    "print(y_test_new.shape)\n",
    "loss, accuracy = model.evaluate(X_test, y_test_new)\n",
    "print(\"Test Loss:\", loss)\n",
    "print(\"Test Accuracy:\", accuracy)"
   ]
  }
 ],
 "metadata": {
  "kernelspec": {
   "display_name": "dl",
   "language": "python",
   "name": "python3"
  },
  "language_info": {
   "codemirror_mode": {
    "name": "ipython",
    "version": 3
   },
   "file_extension": ".py",
   "mimetype": "text/x-python",
   "name": "python",
   "nbconvert_exporter": "python",
   "pygments_lexer": "ipython3",
   "version": "3.8.10"
  },
  "orig_nbformat": 4
 },
 "nbformat": 4,
 "nbformat_minor": 2
}
